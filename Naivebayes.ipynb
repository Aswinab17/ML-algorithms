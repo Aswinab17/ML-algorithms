{
  "nbformat": 4,
  "nbformat_minor": 0,
  "metadata": {
    "colab": {
      "provenance": [],
      "authorship_tag": "ABX9TyO5p3B9ipbhay4MAWkRe3oI",
      "include_colab_link": true
    },
    "kernelspec": {
      "name": "python3",
      "display_name": "Python 3"
    },
    "language_info": {
      "name": "python"
    }
  },
  "cells": [
    {
      "cell_type": "markdown",
      "metadata": {
        "id": "view-in-github",
        "colab_type": "text"
      },
      "source": [
        "<a href=\"https://colab.research.google.com/github/Aswinab17/ML-algorithms/blob/main/Naivebayes.ipynb\" target=\"_parent\"><img src=\"https://colab.research.google.com/assets/colab-badge.svg\" alt=\"Open In Colab\"/></a>"
      ]
    },
    {
      "cell_type": "code",
      "execution_count": null,
      "metadata": {
        "id": "DGC3z067OyIU"
      },
      "outputs": [],
      "source": [
        "outlook=['sunny','sunny','overcast','rainy','rainy','rainy',\n",
        "         'overcast','sunny','sunny','rainy','sunny',\n",
        "         'overcast','overcast','rainy']\n",
        "temperature=['hot','hot','hot','mild','cool','cool','cool','mild',\n",
        "             'cool','mild','mild','mild','hot','mild']\n",
        "humidity=['high','high','high','high','normal','normal',\n",
        "          'normal','high','normal','normal','normal','high','normal','high']\n",
        "\n",
        "wind=['weak','strong','weak','weak','weak','strong','strong','weak',\n",
        "      'weak','weak','strong','strong','weak','strong']\n",
        "\n",
        "play=['no','no','yes','yes','yes','no','yes','no','yes','yes',\n",
        "      'yes','yes','yes','no']"
      ]
    },
    {
      "cell_type": "code",
      "source": [
        "#encoding\n",
        "from sklearn.preprocessing import LabelEncoder\n",
        "lb=LabelEncoder()\n",
        "outlook_encoder=lb.fit_transform(outlook)\n",
        "outlook_encoder\n",
        "\n"
      ],
      "metadata": {
        "colab": {
          "base_uri": "https://localhost:8080/"
        },
        "id": "IyXLVLA-P5fz",
        "outputId": "bf695609-3989-44ba-cfb6-439091a9dc80"
      },
      "execution_count": null,
      "outputs": [
        {
          "output_type": "execute_result",
          "data": {
            "text/plain": [
              "array([2, 2, 0, 1, 1, 1, 0, 2, 2, 1, 2, 0, 0, 1])"
            ]
          },
          "metadata": {},
          "execution_count": 4
        }
      ]
    },
    {
      "cell_type": "code",
      "source": [
        "temp_encoder=lb.fit_transform(temperature)\n",
        "temp_encoder"
      ],
      "metadata": {
        "colab": {
          "base_uri": "https://localhost:8080/"
        },
        "id": "qiAoXcYEUA2s",
        "outputId": "be26a4db-86d5-47a8-e65c-68e257b9bc29"
      },
      "execution_count": null,
      "outputs": [
        {
          "output_type": "execute_result",
          "data": {
            "text/plain": [
              "array([1, 1, 1, 2, 0, 0, 0, 2, 0, 2, 2, 2, 1, 2])"
            ]
          },
          "metadata": {},
          "execution_count": 5
        }
      ]
    },
    {
      "cell_type": "code",
      "source": [
        "hum=lb.fit_transform(humidity)\n",
        "hum"
      ],
      "metadata": {
        "colab": {
          "base_uri": "https://localhost:8080/"
        },
        "id": "6uBbRPZxU4rx",
        "outputId": "ca9bc9bf-cbdb-44df-f5d1-51c1289b5fdd"
      },
      "execution_count": null,
      "outputs": [
        {
          "output_type": "execute_result",
          "data": {
            "text/plain": [
              "array([0, 0, 0, 0, 1, 1, 1, 0, 1, 1, 1, 0, 1, 0])"
            ]
          },
          "metadata": {},
          "execution_count": 6
        }
      ]
    },
    {
      "cell_type": "code",
      "source": [
        "win=lb.fit_transform(wind)\n",
        "win"
      ],
      "metadata": {
        "colab": {
          "base_uri": "https://localhost:8080/"
        },
        "id": "XyGIG6WtVBbm",
        "outputId": "7f4a6648-186e-4e75-8017-7f0882f90983"
      },
      "execution_count": null,
      "outputs": [
        {
          "output_type": "execute_result",
          "data": {
            "text/plain": [
              "array([1, 0, 1, 1, 1, 0, 0, 1, 1, 1, 0, 0, 1, 0])"
            ]
          },
          "metadata": {},
          "execution_count": 7
        }
      ]
    },
    {
      "cell_type": "code",
      "source": [
        "feature=list(zip(outlook_encoder,temp_encoder,hum,win))\n",
        "feature"
      ],
      "metadata": {
        "colab": {
          "base_uri": "https://localhost:8080/"
        },
        "id": "upkzekMSWQdK",
        "outputId": "4f740a8e-7b98-4df7-c160-87e236a5058f"
      },
      "execution_count": null,
      "outputs": [
        {
          "output_type": "execute_result",
          "data": {
            "text/plain": [
              "[(2, 1, 0, 1),\n",
              " (2, 1, 0, 0),\n",
              " (0, 1, 0, 1),\n",
              " (1, 2, 0, 1),\n",
              " (1, 0, 1, 1),\n",
              " (1, 0, 1, 0),\n",
              " (0, 0, 1, 0),\n",
              " (2, 2, 0, 1),\n",
              " (2, 0, 1, 1),\n",
              " (1, 2, 1, 1),\n",
              " (2, 2, 1, 0),\n",
              " (0, 2, 0, 0),\n",
              " (0, 1, 1, 1),\n",
              " (1, 2, 0, 0)]"
            ]
          },
          "metadata": {},
          "execution_count": 8
        }
      ]
    },
    {
      "cell_type": "code",
      "source": [
        "from sklearn.naive_bayes import MultinomialNB\n",
        "base=MultinomialNB()\n",
        "base.fit(feature,play)\n",
        "print(base.predict([[2,0,0,0]]))"
      ],
      "metadata": {
        "id": "QYX35gFTXoL7",
        "colab": {
          "base_uri": "https://localhost:8080/"
        },
        "outputId": "e14d331e-d447-460b-bb67-4b9ea4c302e0"
      },
      "execution_count": null,
      "outputs": [
        {
          "output_type": "stream",
          "name": "stdout",
          "text": [
            "['no']\n"
          ]
        }
      ]
    }
  ]
}